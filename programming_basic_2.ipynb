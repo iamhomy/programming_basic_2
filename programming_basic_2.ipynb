{
 "cells": [
  {
   "cell_type": "code",
   "execution_count": 2,
   "metadata": {},
   "outputs": [
    {
     "name": "stdout",
     "output_type": "stream",
     "text": [
      "in miles 0.621371\n"
     ]
    }
   ],
   "source": [
    "#1a)\n",
    "kilometers = 1\n",
    "print(f'in miles {0.621371*kilometers}')"
   ]
  },
  {
   "cell_type": "code",
   "execution_count": 4,
   "metadata": {},
   "outputs": [
    {
     "name": "stdout",
     "output_type": "stream",
     "text": [
      "in fahrenheit 35.6\n"
     ]
    }
   ],
   "source": [
    "#2a)\n",
    "celcius =2\n",
    "print(f'in fahrenheit {(celcius*9/5)+32}')"
   ]
  },
  {
   "cell_type": "code",
   "execution_count": 7,
   "metadata": {},
   "outputs": [
    {
     "name": "stdout",
     "output_type": "stream",
     "text": [
      "     July 2000\n",
      "Mo Tu We Th Fr Sa Su\n",
      "                1  2\n",
      " 3  4  5  6  7  8  9\n",
      "10 11 12 13 14 15 16\n",
      "17 18 19 20 21 22 23\n",
      "24 25 26 27 28 29 30\n",
      "31\n",
      "\n"
     ]
    }
   ],
   "source": [
    "#3a)\n",
    "import calendar\n",
    "yy = 2000\n",
    "mm = 7\n",
    "print(calendar.month(yy, mm))"
   ]
  },
  {
   "cell_type": "code",
   "execution_count": 10,
   "metadata": {},
   "outputs": [
    {
     "name": "stdout",
     "output_type": "stream",
     "text": [
      "it is not possible\n"
     ]
    }
   ],
   "source": [
    "#4a)\n",
    "import math\n",
    "#coeffiecients\n",
    "a = 1\n",
    "b =2\n",
    "c =3\n",
    "#roots\n",
    "if (b*b - 4*a*c) >=0:\n",
    "   x1 = (-b + math.sqrt((b*b - 4*a*c))) / 2 *a\n",
    "   x2 = (-b - math.sqrt((b*b - 4*a*c))) / 2 *a\n",
    "   print(x1,x2)\n",
    "else:\n",
    "    print(\"it is not possible\")"
   ]
  },
  {
   "cell_type": "code",
   "execution_count": null,
   "metadata": {},
   "outputs": [],
   "source": [
    "#5a)\n",
    "a = 1\n",
    "b = 2\n",
    "temp = a\n",
    "a = b\n",
    "b =temp"
   ]
  }
 ],
 "metadata": {
  "kernelspec": {
   "display_name": "Python 3",
   "language": "python",
   "name": "python3"
  },
  "language_info": {
   "codemirror_mode": {
    "name": "ipython",
    "version": 3
   },
   "file_extension": ".py",
   "mimetype": "text/x-python",
   "name": "python",
   "nbconvert_exporter": "python",
   "pygments_lexer": "ipython3",
   "version": "3.8.3"
  }
 },
 "nbformat": 4,
 "nbformat_minor": 4
}
